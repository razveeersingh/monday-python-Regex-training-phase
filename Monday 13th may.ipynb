{
 "cells": [
  {
   "cell_type": "code",
   "execution_count": 1,
   "metadata": {},
   "outputs": [],
   "source": [
    "#functions\n",
    "#block of code => reuse"
   ]
  },
  {
   "cell_type": "code",
   "execution_count": 2,
   "metadata": {},
   "outputs": [
    {
     "data": {
      "text/plain": [
       "'\\ndef func():\\n    statement\\n'"
      ]
     },
     "execution_count": 2,
     "metadata": {},
     "output_type": "execute_result"
    }
   ],
   "source": [
    "'''\n",
    "def func():\n",
    "    statement\n",
    "'''"
   ]
  },
  {
   "cell_type": "code",
   "execution_count": 5,
   "metadata": {},
   "outputs": [],
   "source": [
    "#x is the parameter\n",
    "def msg(x):\n",
    "    print(\"hello\",x)"
   ]
  },
  {
   "cell_type": "code",
   "execution_count": 7,
   "metadata": {},
   "outputs": [
    {
     "name": "stdout",
     "output_type": "stream",
     "text": [
      "hello raaz\n"
     ]
    }
   ],
   "source": [
    "#\"raaz\" is the argument\n",
    "msg(\"raaz\")"
   ]
  },
  {
   "cell_type": "code",
   "execution_count": 9,
   "metadata": {},
   "outputs": [
    {
     "name": "stdout",
     "output_type": "stream",
     "text": [
      "hello raaz\n",
      "None\n"
     ]
    }
   ],
   "source": [
    "#print does not give any value it just shows it\n",
    "print(msg(\"raaz\"))"
   ]
  },
  {
   "cell_type": "code",
   "execution_count": 10,
   "metadata": {},
   "outputs": [
    {
     "name": "stdout",
     "output_type": "stream",
     "text": [
      "x and y: 10 20\n",
      "30\n"
     ]
    }
   ],
   "source": [
    "#return is used to give a value back\n",
    "def returning(x,y):\n",
    "    print(\"x and y:\",x,y)\n",
    "    return x+y\n",
    "print( returning(10,20))"
   ]
  },
  {
   "cell_type": "code",
   "execution_count": 15,
   "metadata": {},
   "outputs": [
    {
     "name": "stdout",
     "output_type": "stream",
     "text": [
      "[10, 20] 2977120137600\n"
     ]
    }
   ],
   "source": [
    "#change in memory address will change the actual data.\n",
    "def func(x):\n",
    "    print(x,id(x))\n",
    "\n",
    "mylist=[10,20]\n",
    "func(mylist)\n"
   ]
  },
  {
   "cell_type": "code",
   "execution_count": 18,
   "metadata": {},
   "outputs": [
    {
     "name": "stdout",
     "output_type": "stream",
     "text": [
      "excelent\n"
     ]
    }
   ],
   "source": [
    "#a function with 3 parameters if 1st is higher => excelent\n",
    "# 2nd is higher => good\n",
    "# 3rd is higher => average\n",
    "def func1(x,y,z):\n",
    "    if x>y and x>z:\n",
    "        print(\"good\")\n",
    "    elif y>x and y>z:\n",
    "        print(\"good\")\n",
    "    else:\n",
    "        print(\"excelent\")\n",
    "\n",
    "func1(1,2,3)"
   ]
  },
  {
   "cell_type": "code",
   "execution_count": 31,
   "metadata": {},
   "outputs": [],
   "source": [
    "def lcm(x,y):\n",
    "    if x>y:\n",
    "        greater=x\n",
    "    else:\n",
    "        greater=y\n",
    "    while(True):\n",
    "        if greater%x==0 and greater%y==0:\n",
    "            print(\"the LCM is \",greater)\n",
    "            return\n",
    "        else:\n",
    "            greater+=1"
   ]
  },
  {
   "cell_type": "code",
   "execution_count": 32,
   "metadata": {},
   "outputs": [
    {
     "name": "stdout",
     "output_type": "stream",
     "text": [
      "the LCM is  18\n"
     ]
    }
   ],
   "source": [
    "lcm(2,9)"
   ]
  },
  {
   "cell_type": "code",
   "execution_count": 36,
   "metadata": {},
   "outputs": [
    {
     "name": "stdout",
     "output_type": "stream",
     "text": [
      "Eid is: 90\n",
      " ename is: raaz\n",
      " email is raaz@gmail.com\n"
     ]
    }
   ],
   "source": [
    "#types of arguments\n",
    "\n",
    "#required argument\n",
    "def employee(eid, ename, email):\n",
    "    print(f\"Eid is: {eid}\\n ename is: {ename}\\n email is {email}\")\n",
    "\n",
    "employee(90, \"raaz\", \"raaz@gmail.com\")"
   ]
  },
  {
   "cell_type": "code",
   "execution_count": 37,
   "metadata": {},
   "outputs": [
    {
     "name": "stdout",
     "output_type": "stream",
     "text": [
      "Eid is: raaz\n",
      " ename is: 90\n",
      " email is raaz@gmail.com\n"
     ]
    }
   ],
   "source": [
    "#positional arguement\n",
    "def employee(eid, ename, email):\n",
    "    print(f\"Eid is: {eid}\\n ename is: {ename}\\n email is {email}\")\n",
    "\n",
    "employee(\"raaz\", 90, \"raaz@gmail.com\")"
   ]
  },
  {
   "cell_type": "code",
   "execution_count": 41,
   "metadata": {},
   "outputs": [
    {
     "name": "stdout",
     "output_type": "stream",
     "text": [
      "Eid is: 90\n",
      "ename is: raaz\n",
      "email is raaz@gmail.com\n"
     ]
    }
   ],
   "source": [
    "#keyword arguements\n",
    "def employee(eid, ename, email):\n",
    "    print(f\"Eid is: {eid}\\nename is: {ename}\\nemail is {email}\")\n",
    "\n",
    "employee(ename=\"raaz\", eid=90, email=\"raaz@gmail.com\")"
   ]
  },
  {
   "cell_type": "code",
   "execution_count": 46,
   "metadata": {},
   "outputs": [
    {
     "name": "stdout",
     "output_type": "stream",
     "text": [
      "Eid is: 90\n",
      "ename is: raaz\n",
      "email is raaz@gmail.com\n"
     ]
    }
   ],
   "source": [
    "def employee(eid, ename, email=\"regex@gmail.com\"):\n",
    "    print(f\"Eid is: {eid}\\nename is: {ename}\\nemail is {email}\")\n",
    "\n",
    "employee(ename=\"raaz\", eid=90, email=\"raaz@gmail.com\")"
   ]
  },
  {
   "cell_type": "code",
   "execution_count": 1,
   "metadata": {},
   "outputs": [
    {
     "name": "stdout",
     "output_type": "stream",
     "text": [
      "('raaz', 30, 503, 532, 322530, 0)\n"
     ]
    }
   ],
   "source": [
    "# variable length arguement\n",
    "def facebook(*data):\n",
    "    print(data)\n",
    "\n",
    "facebook(\"raaz\",30,503,532,322530,0)"
   ]
  },
  {
   "cell_type": "code",
   "execution_count": 2,
   "metadata": {},
   "outputs": [],
   "source": [
    "#keyword variable length variable\n",
    "#args and kwargs\n",
    "# kwargs => keyword variable arguements\n",
    "# args => variable arguements\n",
    "\n",
    "def facebook (**data):\n",
    "    print (data,type(data))\n"
   ]
  },
  {
   "cell_type": "code",
   "execution_count": 11,
   "metadata": {},
   "outputs": [
    {
     "name": "stdout",
     "output_type": "stream",
     "text": [
      "10 2500\n"
     ]
    }
   ],
   "source": [
    "#high order functions\n",
    "# which takes another function as an argument\n",
    "\n",
    "def square(x):\n",
    "    return x*x\n",
    "\n",
    "def addno(x, f):\n",
    "    print(x,f(50))\n",
    "\n",
    "addno(10, square)\n",
    "#addno(10, square(20))"
   ]
  },
  {
   "cell_type": "code",
   "execution_count": null,
   "metadata": {},
   "outputs": [],
   "source": []
  }
 ],
 "metadata": {
  "kernelspec": {
   "display_name": "Python 3",
   "language": "python",
   "name": "python3"
  },
  "language_info": {
   "codemirror_mode": {
    "name": "ipython",
    "version": 3
   },
   "file_extension": ".py",
   "mimetype": "text/x-python",
   "name": "python",
   "nbconvert_exporter": "python",
   "pygments_lexer": "ipython3",
   "version": "3.11.9"
  }
 },
 "nbformat": 4,
 "nbformat_minor": 2
}
