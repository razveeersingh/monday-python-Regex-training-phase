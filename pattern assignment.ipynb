{
 "cells": [
  {
   "cell_type": "code",
   "execution_count": 1,
   "metadata": {},
   "outputs": [
    {
     "name": "stdout",
     "output_type": "stream",
     "text": [
      "1234*\n",
      "567**\n",
      "89***\n"
     ]
    }
   ],
   "source": [
    "a = 1\n",
    "for i in range(1,4):\n",
    "    for j in range(5-i):\n",
    "        print(a,end=\"\")\n",
    "        a+=1\n",
    "    for k in range(0,i):\n",
    "        print(\"*\",end=\"\")\n",
    "    print()\n"
   ]
  },
  {
   "cell_type": "code",
   "execution_count": 2,
   "metadata": {},
   "outputs": [
    {
     "name": "stdout",
     "output_type": "stream",
     "text": [
      "ABCD1\n",
      "ABC12\n",
      "AB123\n",
      "A1234\n"
     ]
    }
   ],
   "source": [
    "for i in range(1,5):\n",
    "    a=65\n",
    "    n=1\n",
    "    for j in range(5-i):\n",
    "        print(chr(a),end=\"\")\n",
    "        a+=1\n",
    "    for k in range(0,i):\n",
    "        print(n,end=\"\")\n",
    "        n+=1\n",
    "    print()\n"
   ]
  },
  {
   "cell_type": "code",
   "execution_count": 3,
   "metadata": {},
   "outputs": [
    {
     "name": "stdout",
     "output_type": "stream",
     "text": [
      "   A\n",
      "  BC\n",
      " DEF\n",
      "GHIJ\n"
     ]
    }
   ],
   "source": [
    "a=65\n",
    "for i in range(1,5):\n",
    "    for j in range(4-i):\n",
    "        print(end=\" \") \n",
    "    for k in range(0,i):\n",
    "        print(chr(a),end=\"\")\n",
    "        a+=1\n",
    "    print()\n"
   ]
  },
  {
   "cell_type": "code",
   "execution_count": 4,
   "metadata": {},
   "outputs": [
    {
     "name": "stdout",
     "output_type": "stream",
     "text": [
      "*****\n",
      " ***\n",
      "  *\n"
     ]
    }
   ],
   "source": [
    "for i in range(0,3):\n",
    "    for j in range(0,i):\n",
    "        print(end=\" \")\n",
    "    for k in range(5,i*2,-1):\n",
    "        print(\"*\",end=\"\")\n",
    "    print()\n"
   ]
  },
  {
   "cell_type": "code",
   "execution_count": 5,
   "metadata": {},
   "outputs": [
    {
     "name": "stdout",
     "output_type": "stream",
     "text": [
      "ABCD1\n",
      "ABC23\n",
      "AB456\n",
      "A78910\n"
     ]
    }
   ],
   "source": [
    "n=1\n",
    "for i in range(1,5):\n",
    "    a=65\n",
    "\n",
    "    for j in range(5-i):\n",
    "        print(chr(a),end=\"\")\n",
    "        a+=1\n",
    "    for k in range(0,i):\n",
    "        print(n,end=\"\")\n",
    "        n+=1\n",
    "    print()\n"
   ]
  },
  {
   "cell_type": "code",
   "execution_count": null,
   "metadata": {},
   "outputs": [],
   "source": []
  }
 ],
 "metadata": {
  "kernelspec": {
   "display_name": "Python 3",
   "language": "python",
   "name": "python3"
  },
  "language_info": {
   "codemirror_mode": {
    "name": "ipython",
    "version": 3
   },
   "file_extension": ".py",
   "mimetype": "text/x-python",
   "name": "python",
   "nbconvert_exporter": "python",
   "pygments_lexer": "ipython3",
   "version": "3.11.9"
  }
 },
 "nbformat": 4,
 "nbformat_minor": 2
}
